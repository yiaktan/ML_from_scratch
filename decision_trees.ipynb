{
 "cells": [
  {
   "cell_type": "code",
   "execution_count": 2,
   "metadata": {},
   "outputs": [],
   "source": [
    "import numpy as np\n",
    "import matplotlib.pyplot as plt\n",
    "import pandas as pd"
   ]
  },
  {
   "cell_type": "markdown",
   "metadata": {},
   "source": [
    "Decision Trees split data by feature values in order to arrive at predictions. Unlike linear/logistic regression models, decision trees are non-parametric. They do not make any assumptions aout the distribution of sample data. Pure decision trees tend to suffer from overfitting, as they are being fit directly over the underlying data. They are however, a key building block of other, more people bagging and ensemble methods, like random forests and XGBoost. <br>\n",
    "For decision tree classifiers, there's an important mathematical concept:\n",
    "\n",
    "### Gini Impurity\n",
    "Mathematically, with C being the number of classes, and p(i) being the probability of a data point belonging to class i:\n",
    "$$G = \\sum\\limits_{i=1}^C p(i) * (1 - p(i)) $$\n",
    "This will be our loss function for the model. Within each feature, we ideally want to pick split points that perfectly seperate the data. Consider a dataset with two classes, C1 and C2:"
   ]
  },
  {
   "cell_type": "code",
   "execution_count": 34,
   "metadata": {},
   "outputs": [
    {
     "data": {
      "image/png": "[encoded data removed]",
      "text/plain": [
       "<Figure size 432x288 with 1 Axes>"
      ]
     },
     "metadata": {
      "needs_background": "light"
     },
     "output_type": "display_data"
    }
   ],
   "source": [
    "np.random.seed(0)\n",
    "x1 = np.random.rand(10)\n",
    "y1 = np.random.rand(10)\n",
    "x2 = np.random.rand(10) + 1\n",
    "y2 = np.random.rand(10)\n",
    "plt.scatter(x1,y1,label = 'C1')\n",
    "plt.scatter(x2,y2, label = 'C2')\n",
    "plt.legend()\n",
    "plt.vlines(1,0,1,linestyles='dashed')\n",
    "plt.xlim(0,2)\n",
    "plt.ylim(0,1)\n",
    "plt.xlabel(\"Splitpoint: x = 1\")\n",
    "plt.show()"
   ]
  },
  {
   "cell_type": "markdown",
   "metadata": {},
   "source": [
    "In the case above, the Gini impurity would be 0. At worst, we'd pick a split point with a Gini index of .5, which fails to seperate the two classes at all:"
   ]
  },
  {
   "cell_type": "code",
   "execution_count": 42,
   "metadata": {},
   "outputs": [
    {
     "data": {
      "text/plain": [
       "3"
      ]
     },
     "execution_count": 42,
     "metadata": {},
     "output_type": "execute_result"
    }
   ],
   "source": [
    "np.size(np.unique([3,4,5]))"
   ]
  },
  {
   "cell_type": "code",
   "execution_count": 35,
   "metadata": {},
   "outputs": [
    {
     "data": {
      "image/png": "[encoded data removed]",
      "text/plain": [
       "<Figure size 432x288 with 1 Axes>"
      ]
     },
     "metadata": {
      "needs_background": "light"
     },
     "output_type": "display_data"
    }
   ],
   "source": [
    "plt.scatter(x1,y1,label = 'C1')\n",
    "plt.scatter(x2,y2, label = 'C2')\n",
    "plt.legend()\n",
    "plt.vlines(.1,0,1,linestyles='dashed')\n",
    "plt.xlim(0,2)\n",
    "plt.ylim(0,1)\n",
    "plt.xlabel(\"Splitpoint: x = 0.1\")\n",
    "plt.show()"
   ]
  },
  {
   "cell_type": "markdown",
   "metadata": {},
   "source": [
    "Our classifier will repeatedly split a feature at a certain value, and calculate the Gini impurity on each side of the split eighted by the number of samples on each side, until the optimal split point is found with the lowest average Gini value. Each split creates nodes. Branches of nodes are created until no split exists that would lead to a child node with less impurity, or until the max depth is reached (defined as a hyperparameter).\n",
    "To sketch it out in steps:\n",
    "1. __Build parent node:__ Randomly select a feature and find the split point with lowest average Gini Impurity\n",
    "2. __Build child nodes:__ Select new features, and find splitpoints that lead to lower average Gini Impurity\n",
    "3. __Repeat:__ Continue until no longer possible, or max depth reach\n",
    "\n",
    "Now lets try building this"
   ]
  },
  {
   "cell_type": "code",
   "execution_count": null,
   "metadata": {},
   "outputs": [],
   "source": [
    "class Node:\n",
    "    def __init__(self, gini, num_samples, num_samples_per_class, predicted_class):\n",
    "        self.gini = gini\n",
    "        self.num_samples = num_samples\n",
    "        self.num_samples_per_class = num_samples_per_class\n",
    "        self.predicted_class = predicted_class\n",
    "        self.feature_index = 0\n",
    "        self.threshold = 0\n",
    "        self.left = None\n",
    "        self.right = None\n",
    "\n",
    "class DecisionTreeClassifier:\n",
    "    def __init__(self, max_depth=None):\n",
    "        self.max_depth == max_depth\n",
    "        \n",
    "\n",
    "                \n",
    "        \n",
    "    def fit(X, y, depth= 0):\n",
    "        self.n_classes_ = np.size(np.unique(y))\n",
    "        self.n_features_ = X.shape[1]\n",
    "        self.tree = self._grow_tree(X, y)\n",
    "        \n",
    "    def _grow_tree(self, X, Y):\n",
    "        \n",
    "        \n",
    "        \n",
    "    def _best_split(self, X, y):\n",
    "        if y.size <= 1:\n",
    "            return None, None\n",
    "        \n",
    "        parent_count = [np.sum(y == c) for c in range (self.n_classes_)]"
   ]
  }
 ],
 "metadata": {
  "kernelspec": {
   "display_name": "Python 3",
   "language": "python",
   "name": "python3"
  },
  "language_info": {
   "codemirror_mode": {
    "name": "ipython",
    "version": 3
   },
   "file_extension": ".py",
   "mimetype": "text/x-python",
   "name": "python",
   "nbconvert_exporter": "python",
   "pygments_lexer": "ipython3",
   "version": "3.7.6"
  }
 },
 "nbformat": 4,
 "nbformat_minor": 4
}
