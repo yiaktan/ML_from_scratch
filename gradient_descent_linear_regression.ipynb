{
 "cells": [
  {
   "cell_type": "code",
   "execution_count": 1,
   "metadata": {},
   "outputs": [],
   "source": [
    "import pandas as pd\n",
    "import numpy as np\n",
    "import matplotlib.pyplot as plt\n",
    "\n",
    "from sklearn.datasets import load_boston\n",
    "from sklearn.model_selection import train_test_split\n",
    "from sklearn.metrics import mean_squared_error\n"
   ]
  },
  {
   "cell_type": "markdown",
   "metadata": {},
   "source": [
    "Gradient descent is used to (hopefully) find the global minimum of a differentiable function.\n",
    "\n",
    "Suppose we want to find the minimum of the function \n",
    "$$f(x) = (x-10)^{2} $$\n",
    "The function looks like this:"
   ]
  },
  {
   "cell_type": "code",
   "execution_count": 2,
   "metadata": {},
   "outputs": [
    {
     "data": {
      "image/png": "[encoded data removed]",
      "text/plain": [
       "<Figure size 432x288 with 1 Axes>"
      ]
     },
     "metadata": {
      "needs_background": "light"
     },
     "output_type": "display_data"
    }
   ],
   "source": [
    "df = pd.DataFrame(index = np.arange(0, 20))\n",
    "df['f(x)'] = df.index.map(lambda x: (x-10)**2)\n",
    "df.plot()\n",
    "plt.show()"
   ]
  },
  {
   "cell_type": "markdown",
   "metadata": {},
   "source": [
    "You might remember from calculus, you can find the minimum of a function  by finding where its derivative is equal to zero.\n",
    "The derivative of our function here is\n",
    "$$f'(x) = 2*(x-10)$$"
   ]
  },
  {
   "cell_type": "code",
   "execution_count": 3,
   "metadata": {},
   "outputs": [
    {
     "data": {
      "image/png": "[encoded data removed]",
      "text/plain": [
       "<Figure size 432x288 with 1 Axes>"
      ]
     },
     "metadata": {
      "needs_background": "light"
     },
     "output_type": "display_data"
    }
   ],
   "source": [
    "df = pd.DataFrame(index = np.arange(0, 20))\n",
    "df[\"f'(x)\"] = df.index.map(lambda x: 2*(x-10))\n",
    "df.plot()\n",
    "plt.show()"
   ]
  },
  {
   "cell_type": "markdown",
   "metadata": {},
   "source": [
    "What we want to do now is given a starting point x, and a learning rate g, move against the gradient of f(x) at a rate of g, to find the minimum of f(x). If step sizes start getting too small, because we're approaching the minimum (set this cutoff via precision), end the loop. "
   ]
  },
  {
   "cell_type": "code",
   "execution_count": 4,
   "metadata": {},
   "outputs": [
    {
     "name": "stdout",
     "output_type": "stream",
     "text": [
      "Iteration 0 x is 6.0\n",
      "Iteration 1 x is 6.8\n",
      "Iteration 2 x is 7.4399999999999995\n",
      "Iteration 3 x is 7.952\n",
      "Iteration 4 x is 8.3616\n",
      "Iteration 5 x is 8.68928\n",
      "Iteration 6 x is 8.951424\n",
      "Iteration 7 x is 9.1611392\n",
      "Iteration 8 x is 9.32891136\n",
      "Iteration 9 x is 9.463129087999999\n",
      "Iteration 10 x is 9.5705032704\n",
      "Iteration 11 x is 9.65640261632\n",
      "Iteration 12 x is 9.725122093056\n",
      "Iteration 13 x is 9.7800976744448\n",
      "Iteration 14 x is 9.82407813955584\n",
      "Iteration 15 x is 9.859262511644673\n",
      "Iteration 16 x is 9.887410009315738\n",
      "Iteration 17 x is 9.90992800745259\n",
      "Iteration 18 x is 9.927942405962073\n",
      "Iteration 19 x is 9.942353924769659\n",
      "Iteration 20 x is 9.953883139815726\n",
      "Iteration 21 x is 9.963106511852581\n",
      "Iteration 22 x is 9.970485209482066\n",
      "Iteration 23 x is 9.976388167585652\n"
     ]
    }
   ],
   "source": [
    "y_gradient = lambda x: 2*(x-10)\n",
    "x = 5\n",
    "maximum_iterations = 100\n",
    "learning_rate = .1\n",
    "cost_history = []\n",
    "precision = .001\n",
    "\n",
    "for i in range(maximum_iterations):\n",
    "    cost = (x - 10)**2\n",
    "    cost_history.append(cost)\n",
    "    x -= learning_rate * y_gradient(x)\n",
    "    #previous_step_size = abs(current_x - previous_x)\n",
    "    #current_iteration += 1\n",
    "    print(f'Iteration {i}',f'x is {x}')\n",
    "    if cost < precision:\n",
    "        break\n",
    "\n",
    "   "
   ]
  },
  {
   "cell_type": "markdown",
   "metadata": {},
   "source": [
    "This is nice, but how does it apply to actual machine learning?\n",
    "Lets look at how it can be used in linear regression to find optimal parameter values m and b.\n",
    "$$ y = mx+ b $$\n",
    "We want to find m, b that minimize the mean squared error function:\n",
    "$$ \\frac{1}{2n} \\sum_{i=0}^{n} (mx + b - y)^2 $$\n",
    "\n",
    "Note that the 2 in the denominator isn't necessary for mean squared error, but is conventionally used in this context to make differentiation a bit easier.\n",
    "Lets now find the partial derivatives of this for m and b:\n",
    "$$ \\frac{\\partial f}{\\partial m} (\\frac{1}{2n} \\sum_{i=0}^{n} (mx + b - y)^2 )  = \\frac{1}{n} \\sum_{i=0}^{n} (mx+b-y)*x$$\n",
    "and \n",
    "$$ \\frac{\\partial f}{\\partial b} (\\frac{1}{2n} \\sum_{i=0}^{n} (mx + b - y)^2 )  = \\frac{1}{n} \\sum_{i=0}^{n} (mx+b-y)$$\n",
    "\n",
    "where $ mx+b-y $ is the error from the cost function"
   ]
  },
  {
   "cell_type": "code",
   "execution_count": 5,
   "metadata": {},
   "outputs": [],
   "source": [
    "class LinearRegression:\n",
    "    def __init__(self, alpha = .1, precision = .01, max_iterations = 500):\n",
    "        self.m = 0\n",
    "        self.b = 0\n",
    "        self.cost_history = []\n",
    "        self.max_iterations = max_iterations\n",
    "        self.alpha = alpha\n",
    "        self.precision = precision\n",
    "\n",
    "    def fit(self, x, y):\n",
    "        n_samples, n_features = np.shape(x)\n",
    "        self.m = np.ones(n_features)\n",
    "        x_transposed = x.transpose()\n",
    "        \n",
    "        for i in range(self.max_iterations):\n",
    "            error = (np.dot(x, self.m) + self.b) - y #+ self.b\n",
    "\n",
    "            cost = np.sum(error ** 2) / (2 * n_samples)\n",
    "            self.cost_history.append(cost)\n",
    "\n",
    "            self.m -= self.alpha * (np.dot(x_transposed, error) / n_samples)\n",
    "            self.b -= self.alpha * (error.sum() / n_samples)\n",
    "            if cost < self.precision:\n",
    "                break\n",
    "\n",
    "    def predict(self, x):\n",
    "        return np.dot(x,self.m) + self.b"
   ]
  },
  {
   "cell_type": "code",
   "execution_count": 6,
   "metadata": {},
   "outputs": [
    {
     "name": "stdout",
     "output_type": "stream",
     "text": [
      "m = [2.76821051] b = 2.047886449325148\n"
     ]
    }
   ],
   "source": [
    "x = np.arange(-1,1,step=.1).reshape(20,1)\n",
    "y = x *3 + 2 + np.random.normal()\n",
    "lr = LinearRegression()\n",
    "lr.fit(x, y.ravel())\n",
    "print(f\"m = {lr.m}\",f\"b = {lr.b}\")"
   ]
  },
  {
   "cell_type": "code",
   "execution_count": 7,
   "metadata": {},
   "outputs": [
    {
     "data": {
      "image/png": "[encoded data removed]",
      "text/plain": [
       "<Figure size 432x288 with 1 Axes>"
      ]
     },
     "metadata": {
      "needs_background": "light"
     },
     "output_type": "display_data"
    }
   ],
   "source": [
    "plt.scatter(x,y,label='original data')\n",
    "plt.plot(x,lr.predict(x),label='regression line',c='orange')\n",
    "plt.legend()\n",
    "plt.show()"
   ]
  },
  {
   "cell_type": "code",
   "execution_count": 8,
   "metadata": {},
   "outputs": [
    {
     "data": {
      "image/png": "[encoded data removed]",
      "text/plain": [
       "<Figure size 432x288 with 1 Axes>"
      ]
     },
     "metadata": {
      "needs_background": "light"
     },
     "output_type": "display_data"
    }
   ],
   "source": [
    "plt.plot(lr.cost_history)\n",
    "plt.ylabel('MSE')\n",
    "plt.xlabel('Epochs')\n",
    "plt.show()"
   ]
  },
  {
   "cell_type": "markdown",
   "metadata": {},
   "source": [
    "The model sucessfully converges on m and b using gradient descent.\n",
    "\n",
    "Now lets try this on a real dataset with multiple features:"
   ]
  },
  {
   "cell_type": "code",
   "execution_count": 9,
   "metadata": {},
   "outputs": [
    {
     "name": "stdout",
     "output_type": "stream",
     "text": [
      "MSE = 0.2191\n"
     ]
    }
   ],
   "source": [
    "def normalize(x):\n",
    "    return (x - x.mean()) / x.std()\n",
    "\n",
    "\n",
    "data = load_boston()\n",
    "x = data['data']\n",
    "y = data['target']\n",
    "\n",
    "x = np.apply_along_axis(normalize,arr=x,axis=0)\n",
    "y = np.apply_along_axis(normalize,arr=y,axis=0)\n",
    "\n",
    "X_train, X_test, y_train, y_test = train_test_split(x, y, test_size=.2,random_state=2)\n",
    "\n",
    "\n",
    "lr = LinearRegression()\n",
    "lr.fit(X_train, y_train.ravel())\n",
    "print(\"MSE = \" + str(round(mean_squared_error(y_test, lr.predict(X_test)),4)))"
   ]
  },
  {
   "cell_type": "code",
   "execution_count": 10,
   "metadata": {},
   "outputs": [
    {
     "data": {
      "image/png": "[encoded data removed]",
      "text/plain": [
       "<Figure size 432x288 with 1 Axes>"
      ]
     },
     "metadata": {
      "needs_background": "light"
     },
     "output_type": "display_data"
    }
   ],
   "source": [
    "plt.plot(lr.cost_history)\n",
    "plt.ylabel('MSE')\n",
    "plt.xlabel('Epochs')\n",
    "plt.show()"
   ]
  },
  {
   "cell_type": "code",
   "execution_count": null,
   "metadata": {},
   "outputs": [],
   "source": []
  }
 ],
 "metadata": {
  "kernelspec": {
   "display_name": "Python 3",
   "language": "python",
   "name": "python3"
  },
  "language_info": {
   "codemirror_mode": {
    "name": "ipython",
    "version": 3
   },
   "file_extension": ".py",
   "mimetype": "text/x-python",
   "name": "python",
   "nbconvert_exporter": "python",
   "pygments_lexer": "ipython3",
   "version": "3.7.6"
  }
 },
 "nbformat": 4,
 "nbformat_minor": 4
}
